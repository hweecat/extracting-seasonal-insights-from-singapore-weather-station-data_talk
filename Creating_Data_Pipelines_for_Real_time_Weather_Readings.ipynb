{
 "cells": [
  {
   "cell_type": "markdown",
   "metadata": {
    "colab_type": "text",
    "id": "sW-wgveMc2yh"
   },
   "source": [
    "# Scraping Air Temperature and Rainfall Data from Data.gov.sg API\n",
    "\n",
    "Developer: Ong Chin Hwee\n",
    "\n",
    "Language: Python 3.7.4\n",
    "\n",
    "This data scraping script is developed as a personal project to scrap NEA \n",
    "meteorological data from Data.gov.sg APIs. The project initiator (@hweecat) has \n",
    "active plans to expand this personal project to scrap data from other NEA Dataset \n",
    "APIs. \n",
    "\n",
    "Currently, this script is able to scrap data from the following APIs:\n",
    "1. Realtime Weather Readings across Singapore\n",
    "\n",
    "    a. Air Temperature across Singapore\n",
    "\n",
    "    b. Rainfall across Singapore\n",
    "\n",
    "This script is currently being actively updated to include scraping from other NEA dataset APIs."
   ]
  },
  {
   "cell_type": "markdown",
   "metadata": {
    "colab_type": "text",
    "id": "w8kB3G81dw6F"
   },
   "source": [
    "## Extracting data from Data.gov.sg API\n",
    "\n",
    "First, import the required libraries:"
   ]
  },
  {
   "cell_type": "code",
   "execution_count": 1,
   "metadata": {},
   "outputs": [],
   "source": [
    "import numpy as np\n",
    "import pandas as pd\n",
    "import datetime\n",
    "import pickle\n",
    "\n",
    "# parse API output\n",
    "import requests\n",
    "import json\n",
    "\n",
    "# timezone\n",
    "import pytz\n",
    "\n",
    "# process management\n",
    "from tqdm import trange\n",
    "from tqdm import tqdm\n",
    "from time import sleep\n",
    "\n",
    "from retrying import retry"
   ]
  },
  {
   "cell_type": "code",
   "execution_count": 2,
   "metadata": {},
   "outputs": [],
   "source": [
    "@retry(wait_exponential_multiplier=1000, wait_exponential_max=10000)\n",
    "def get_airtemp_data_from_date(date):\n",
    "    url = \"https://api.data.gov.sg/v1/environment/air-temperature?date=\" + str(date) # for daily API request\n",
    "    JSONContent = requests.get(url).json()\n",
    "    content = json.dumps(JSONContent, indent = 4, sort_keys=True)\n",
    "    try:\n",
    "        json_retrieved = (\n",
    "            content[content.find(\"items\")+7:content.find(\"metadata\")-13] + ']'\n",
    "            ).replace(\" \", \"\").replace(\"\\n\", \"\")\n",
    "        df_retrieved = pd.read_json(json_retrieved, orient=\"columns\")\n",
    "        print(\"Data for \" + str(date) + \" scraped!\")\n",
    "        return df_retrieved\n",
    "    except:\n",
    "        print(\"Data for \" + str(date) + \" empty!\")\n",
    "        return pd.DataFrame({'readings' : [], 'timestamp' : []})\n"
   ]
  },
  {
   "cell_type": "code",
   "execution_count": 3,
   "metadata": {},
   "outputs": [],
   "source": [
    "@retry(wait_exponential_multiplier=1000, wait_exponential_max=10000)\n",
    "def get_rainfall_data_from_date(date):\n",
    "    url = \"https://api.data.gov.sg/v1/environment/rainfall?date=\" + str(date) # for daily API request\n",
    "    JSONContent = requests.get(url).json()\n",
    "    content = json.dumps(JSONContent, indent = 4, sort_keys=True)\n",
    "    try:\n",
    "        json_retrieved = (\n",
    "            content[content.find(\"items\")+7:content.find(\"metadata\")-13] + ']'\n",
    "            ).replace(\" \", \"\").replace(\"\\n\", \"\")\n",
    "        df_retrieved = pd.read_json(json_retrieved, orient=\"columns\")    \n",
    "        print(\"Data for \" + str(date) + \" scraped!\")\n",
    "        return df_retrieved\n",
    "    except:\n",
    "        print(\"Data for \" + str(date) + \" empty!\")\n",
    "        return pd.DataFrame({'readings' : [], 'timestamp' : []})\n"
   ]
  },
  {
   "cell_type": "code",
   "execution_count": 4,
   "metadata": {},
   "outputs": [],
   "source": [
    "@retry(wait_exponential_multiplier=1000, wait_exponential_max=10000)\n",
    "def get_relative_humidity_data_from_date(date):\n",
    "    url = \"https://api.data.gov.sg/v1/environment/relative-humidity?date=\" + str(date) # for daily API request\n",
    "    JSONContent = requests.get(url).json()\n",
    "    content = json.dumps(JSONContent, indent = 4, sort_keys=True)\n",
    "    try:\n",
    "        json_retrieved = (\n",
    "            content[content.find(\"items\")+7:content.find(\"metadata\")-13] + ']'\n",
    "            ).replace(\" \", \"\").replace(\"\\n\", \"\")\n",
    "        df_retrieved = pd.read_json(json_retrieved, orient=\"columns\")\n",
    "        print(\"Data for \" + str(date) + \" scraped!\")\n",
    "        return df_retrieved\n",
    "    except:\n",
    "        print(\"Data for \" + str(date) + \" empty!\")\n",
    "        return pd.DataFrame({'readings' : [], 'timestamp' : []})\n"
   ]
  },
  {
   "cell_type": "code",
   "execution_count": 5,
   "metadata": {},
   "outputs": [],
   "source": [
    "def get_data_from_date_range(date_range, data_type):\n",
    "    df_date_list = []\n",
    "    for date in date_range:\n",
    "        try:\n",
    "            if data_type == 'air-temperature':\n",
    "                df_date = get_airtemp_data_from_date(str(date))\n",
    "            elif data_type == 'rainfall':\n",
    "                df_date = get_rainfall_data_from_date(str(date))\n",
    "            elif data_type == 'relative-humidity':\n",
    "                df_date = get_relative_humidity_data_from_date(str(date))\n",
    "        except ValueError:\n",
    "            continue\n",
    "        df_date_list.append(df_date)\n",
    "        sleep(0.1)\n",
    "    return pd.concat(df_date_list).reset_index()"
   ]
  },
  {
   "cell_type": "code",
   "execution_count": 6,
   "metadata": {},
   "outputs": [],
   "source": [
    "def get_device_id(date, data_type):\n",
    "    url = \"https://api.data.gov.sg/v1/environment/\" + data_type + \"?date=\" + str(date) # for daily API request\n",
    "    JSONContent = requests.get(url).json()\n",
    "    content = json.dumps(JSONContent, indent = 4, sort_keys=True)\n",
    "    json_device_id = content[\n",
    "        content.find(\"stations\")+10:-3\n",
    "        ].replace(\" \", \"\").replace(\"\\n\", \"\")\n",
    "    df_device_id = pd.read_json(json_device_id, orient=\"object\")\n",
    "    return df_device_id"
   ]
  },
  {
   "cell_type": "code",
   "execution_count": 7,
   "metadata": {},
   "outputs": [],
   "source": [
    "def df_data_from_json_to_df(reading):\n",
    "    df_to_append = pd.DataFrame(list(df_data['readings'][reading]))\n",
    "\n",
    "    # fill in null values for station ids without reading values for some timestamps\n",
    "    for station_id in list(df_device_id['id']):\n",
    "        if station_id not in list(df_to_append['station_id']):\n",
    "            df_to_append = df_to_append.append(\n",
    "                pd.DataFrame(\n",
    "                    {\"station_id\":[station_id],\n",
    "                    \"value\": [np.nan]}\n",
    "                    )\n",
    "                )      \n",
    "    df_to_append_null_filled = df_to_append.reset_index().drop(columns=['index']).reset_index(drop=True)\n",
    "\n",
    "    return df_to_append_null_filled"
   ]
  },
  {
   "cell_type": "markdown",
   "metadata": {
    "colab_type": "text",
    "id": "_ZZg6-uveU4n"
   },
   "source": [
    "For pandas version 0.24.2 or earlier:"
   ]
  },
  {
   "cell_type": "code",
   "execution_count": 8,
   "metadata": {},
   "outputs": [],
   "source": [
    "def utc_to_local(dt):\n",
    "    local_tz = pytz.timezone('UTC')\n",
    "    dt = local_tz.localize(dt)\n",
    "    target_tz = pytz.timezone('Asia/Singapore')\n",
    "    dt = target_tz.normalize(dt).replace(tzinfo=None)\n",
    "    return dt\n",
    "\n",
    "def remove_tzinfo(dt):\n",
    "    return dt.replace(tzinfo=None)"
   ]
  },
  {
   "cell_type": "code",
   "execution_count": 9,
   "metadata": {},
   "outputs": [
    {
     "name": "stdout",
     "output_type": "stream",
     "text": [
      "Enter a date in YYYY-MM-DD format: 2019-05-01\n",
      "Enter number of days from date entered: 7\n"
     ]
    }
   ],
   "source": [
    "date_entry = input('Enter a date in YYYY-MM-DD format: ')\n",
    "# date_entry = '2019-04-20'\n",
    "date_time_str = str(date_entry)\n",
    "try:        \n",
    "    base = datetime.datetime.strptime(date_time_str, '%Y-%m-%d').date()\n",
    "    if base > datetime.datetime.now().date():\n",
    "        print('Date input is in the future.')\n",
    "        raise ValueError\n",
    "except ValueError:\n",
    "    print('Date input is not valid. Defaulting to current date.')\n",
    "    base = datetime.datetime.now().date()\n",
    "    date_list = [base]\n",
    "else:\n",
    "    numdays_entry = input('Enter number of days from date entered: ')\n",
    "    numdays = int(numdays_entry)\n",
    "    try:\n",
    "        date_list = [base + datetime.timedelta(days=x) for x in range(numdays)]\n",
    "        if date_list[-1] > datetime.datetime.now().date():\n",
    "            print('Date range goes into the future.')\n",
    "            raise ValueError\n",
    "    except ValueError:\n",
    "        print('Date range input is not valid. Defaulting to input date.')\n",
    "        date_list = [base + datetime.timedelta(days=x)\n",
    "        for x in range(int((datetime.datetime.now().date() - base).days+1))]"
   ]
  },
  {
   "cell_type": "code",
   "execution_count": 10,
   "metadata": {},
   "outputs": [
    {
     "name": "stdout",
     "output_type": "stream",
     "text": [
      "Choose type of data to extract from API - 1. air temperature 2. rainfall 3. relative humidity: 3\n"
     ]
    }
   ],
   "source": [
    "# Initialize type of data to extract from NEA data API\n",
    "datatype_entry = input(\n",
    "'Choose type of data to extract from API - \\\n",
    "1. air temperature 2. rainfall 3. relative humidity: ')\n",
    "# datatype_entry = 3\n",
    "datatype_choice = int(datatype_entry)\n",
    "while (datatype_choice):\n",
    "    if datatype_choice == 1:\n",
    "        data_type = 'air-temperature'\n",
    "        break\n",
    "    elif datatype_choice == 2:\n",
    "        data_type = 'rainfall'\n",
    "        break\n",
    "    elif datatype_choice == 3:\n",
    "        data_type = 'relative-humidity'\n",
    "        break\n",
    "    else:\n",
    "        datatype_entry = input('Invalid input.\\\n",
    "Please choose type of data to extract from API \\\n",
    "- 1. air temperature 2. rainfall: ')\n",
    "        datatype_choice = int(datatype_entry)"
   ]
  },
  {
   "cell_type": "code",
   "execution_count": 11,
   "metadata": {},
   "outputs": [
    {
     "name": "stdout",
     "output_type": "stream",
     "text": [
      "Data for 2019-05-01 scraped!\n",
      "Data for 2019-05-02 scraped!\n",
      "Data for 2019-05-03 scraped!\n",
      "Data for 2019-05-04 scraped!\n",
      "Data for 2019-05-05 scraped!\n",
      "Data for 2019-05-06 scraped!\n",
      "Data for 2019-05-07 scraped!\n"
     ]
    }
   ],
   "source": [
    "# Extract daily data from Data.gov.sg API\n",
    "# for a defined date range, represented in JSON format\n",
    "try:\n",
    "    df_data = get_data_from_date_range(date_list, data_type)\n",
    "except Exception as e:\n",
    "    print(e)"
   ]
  },
  {
   "cell_type": "code",
   "execution_count": 12,
   "metadata": {},
   "outputs": [
    {
     "data": {
      "text/html": [
       "<div>\n",
       "<style scoped>\n",
       "    .dataframe tbody tr th:only-of-type {\n",
       "        vertical-align: middle;\n",
       "    }\n",
       "\n",
       "    .dataframe tbody tr th {\n",
       "        vertical-align: top;\n",
       "    }\n",
       "\n",
       "    .dataframe thead th {\n",
       "        text-align: right;\n",
       "    }\n",
       "</style>\n",
       "<table border=\"1\" class=\"dataframe\">\n",
       "  <thead>\n",
       "    <tr style=\"text-align: right;\">\n",
       "      <th></th>\n",
       "      <th>index</th>\n",
       "      <th>readings</th>\n",
       "      <th>timestamp</th>\n",
       "    </tr>\n",
       "  </thead>\n",
       "  <tbody>\n",
       "    <tr>\n",
       "      <td>0</td>\n",
       "      <td>0</td>\n",
       "      <td>[{'station_id': 'S109', 'value': 86}, {'statio...</td>\n",
       "      <td>2019-05-01 00:01:00+08:00</td>\n",
       "    </tr>\n",
       "    <tr>\n",
       "      <td>1</td>\n",
       "      <td>1</td>\n",
       "      <td>[{'station_id': 'S109', 'value': 86.3}, {'stat...</td>\n",
       "      <td>2019-05-01 00:02:00+08:00</td>\n",
       "    </tr>\n",
       "    <tr>\n",
       "      <td>2</td>\n",
       "      <td>2</td>\n",
       "      <td>[{'station_id': 'S109', 'value': 86.5}, {'stat...</td>\n",
       "      <td>2019-05-01 00:03:00+08:00</td>\n",
       "    </tr>\n",
       "    <tr>\n",
       "      <td>3</td>\n",
       "      <td>3</td>\n",
       "      <td>[{'station_id': 'S109', 'value': 86.8}, {'stat...</td>\n",
       "      <td>2019-05-01 00:04:00+08:00</td>\n",
       "    </tr>\n",
       "    <tr>\n",
       "      <td>4</td>\n",
       "      <td>4</td>\n",
       "      <td>[{'station_id': 'S109', 'value': 87}, {'statio...</td>\n",
       "      <td>2019-05-01 00:05:00+08:00</td>\n",
       "    </tr>\n",
       "    <tr>\n",
       "      <td>...</td>\n",
       "      <td>...</td>\n",
       "      <td>...</td>\n",
       "      <td>...</td>\n",
       "    </tr>\n",
       "    <tr>\n",
       "      <td>10058</td>\n",
       "      <td>1433</td>\n",
       "      <td>[{'station_id': 'S109', 'value': 74.8}, {'stat...</td>\n",
       "      <td>2019-05-07 23:55:00+08:00</td>\n",
       "    </tr>\n",
       "    <tr>\n",
       "      <td>10059</td>\n",
       "      <td>1434</td>\n",
       "      <td>[{'station_id': 'S109', 'value': 75.1}, {'stat...</td>\n",
       "      <td>2019-05-07 23:56:00+08:00</td>\n",
       "    </tr>\n",
       "    <tr>\n",
       "      <td>10060</td>\n",
       "      <td>1435</td>\n",
       "      <td>[{'station_id': 'S109', 'value': 75.5}, {'stat...</td>\n",
       "      <td>2019-05-07 23:57:00+08:00</td>\n",
       "    </tr>\n",
       "    <tr>\n",
       "      <td>10061</td>\n",
       "      <td>1436</td>\n",
       "      <td>[{'station_id': 'S109', 'value': 75.5}, {'stat...</td>\n",
       "      <td>2019-05-07 23:58:00+08:00</td>\n",
       "    </tr>\n",
       "    <tr>\n",
       "      <td>10062</td>\n",
       "      <td>1437</td>\n",
       "      <td>[{'station_id': 'S109', 'value': 75.7}, {'stat...</td>\n",
       "      <td>2019-05-07 23:59:00+08:00</td>\n",
       "    </tr>\n",
       "  </tbody>\n",
       "</table>\n",
       "<p>10063 rows × 3 columns</p>\n",
       "</div>"
      ],
      "text/plain": [
       "       index                                           readings  \\\n",
       "0          0  [{'station_id': 'S109', 'value': 86}, {'statio...   \n",
       "1          1  [{'station_id': 'S109', 'value': 86.3}, {'stat...   \n",
       "2          2  [{'station_id': 'S109', 'value': 86.5}, {'stat...   \n",
       "3          3  [{'station_id': 'S109', 'value': 86.8}, {'stat...   \n",
       "4          4  [{'station_id': 'S109', 'value': 87}, {'statio...   \n",
       "...      ...                                                ...   \n",
       "10058   1433  [{'station_id': 'S109', 'value': 74.8}, {'stat...   \n",
       "10059   1434  [{'station_id': 'S109', 'value': 75.1}, {'stat...   \n",
       "10060   1435  [{'station_id': 'S109', 'value': 75.5}, {'stat...   \n",
       "10061   1436  [{'station_id': 'S109', 'value': 75.5}, {'stat...   \n",
       "10062   1437  [{'station_id': 'S109', 'value': 75.7}, {'stat...   \n",
       "\n",
       "                      timestamp  \n",
       "0     2019-05-01 00:01:00+08:00  \n",
       "1     2019-05-01 00:02:00+08:00  \n",
       "2     2019-05-01 00:03:00+08:00  \n",
       "3     2019-05-01 00:04:00+08:00  \n",
       "4     2019-05-01 00:05:00+08:00  \n",
       "...                         ...  \n",
       "10058 2019-05-07 23:55:00+08:00  \n",
       "10059 2019-05-07 23:56:00+08:00  \n",
       "10060 2019-05-07 23:57:00+08:00  \n",
       "10061 2019-05-07 23:58:00+08:00  \n",
       "10062 2019-05-07 23:59:00+08:00  \n",
       "\n",
       "[10063 rows x 3 columns]"
      ]
     },
     "execution_count": 12,
     "metadata": {},
     "output_type": "execute_result"
    }
   ],
   "source": [
    "df_data"
   ]
  },
  {
   "cell_type": "code",
   "execution_count": 13,
   "metadata": {},
   "outputs": [
    {
     "name": "stderr",
     "output_type": "stream",
     "text": [
      "100%|████████████████████████████████████████████████████████████████████████████████████| 7/7 [00:20<00:00,  2.86s/it]\n"
     ]
    }
   ],
   "source": [
    "# Get device ID dataframe\n",
    "df_device_id = pd.concat(\n",
    "    [get_device_id(date, data_type) for date in tqdm(date_list)])\n",
    "with open('df_device_id.pickle', 'wb') as f:\n",
    "    pickle.dump(df_device_id, f)"
   ]
  },
  {
   "cell_type": "code",
   "execution_count": 14,
   "metadata": {},
   "outputs": [
    {
     "data": {
      "text/html": [
       "<div>\n",
       "<style scoped>\n",
       "    .dataframe tbody tr th:only-of-type {\n",
       "        vertical-align: middle;\n",
       "    }\n",
       "\n",
       "    .dataframe tbody tr th {\n",
       "        vertical-align: top;\n",
       "    }\n",
       "\n",
       "    .dataframe thead th {\n",
       "        text-align: right;\n",
       "    }\n",
       "</style>\n",
       "<table border=\"1\" class=\"dataframe\">\n",
       "  <thead>\n",
       "    <tr style=\"text-align: right;\">\n",
       "      <th></th>\n",
       "      <th>device_id</th>\n",
       "      <th>id</th>\n",
       "      <th>location</th>\n",
       "      <th>name</th>\n",
       "    </tr>\n",
       "  </thead>\n",
       "  <tbody>\n",
       "    <tr>\n",
       "      <td>0</td>\n",
       "      <td>S109</td>\n",
       "      <td>S109</td>\n",
       "      <td>{'latitude': 1.3764, 'longitude': 103.8492}</td>\n",
       "      <td>AngMoKioAvenue5</td>\n",
       "    </tr>\n",
       "    <tr>\n",
       "      <td>1</td>\n",
       "      <td>S117</td>\n",
       "      <td>S117</td>\n",
       "      <td>{'latitude': 1.256, 'longitude': 103.679}</td>\n",
       "      <td>BanyanRoad</td>\n",
       "    </tr>\n",
       "    <tr>\n",
       "      <td>2</td>\n",
       "      <td>S50</td>\n",
       "      <td>S50</td>\n",
       "      <td>{'latitude': 1.3336999999999999, 'longitude': ...</td>\n",
       "      <td>ClementiRoad</td>\n",
       "    </tr>\n",
       "    <tr>\n",
       "      <td>3</td>\n",
       "      <td>S107</td>\n",
       "      <td>S107</td>\n",
       "      <td>{'latitude': 1.3135, 'longitude': 103.9625}</td>\n",
       "      <td>EastCoastParkway</td>\n",
       "    </tr>\n",
       "    <tr>\n",
       "      <td>4</td>\n",
       "      <td>S43</td>\n",
       "      <td>S43</td>\n",
       "      <td>{'latitude': 1.3399, 'longitude': 103.8878}</td>\n",
       "      <td>KimChuanRoad</td>\n",
       "    </tr>\n",
       "    <tr>\n",
       "      <td>...</td>\n",
       "      <td>...</td>\n",
       "      <td>...</td>\n",
       "      <td>...</td>\n",
       "      <td>...</td>\n",
       "    </tr>\n",
       "    <tr>\n",
       "      <td>11</td>\n",
       "      <td>S116</td>\n",
       "      <td>S116</td>\n",
       "      <td>{'latitude': 1.2810000000000001, 'longitude': ...</td>\n",
       "      <td>WestCoastHighway</td>\n",
       "    </tr>\n",
       "    <tr>\n",
       "      <td>12</td>\n",
       "      <td>S104</td>\n",
       "      <td>S104</td>\n",
       "      <td>{'latitude': 1.44387, 'longitude': 103.78538}</td>\n",
       "      <td>WoodlandsAvenue9</td>\n",
       "    </tr>\n",
       "    <tr>\n",
       "      <td>13</td>\n",
       "      <td>S100</td>\n",
       "      <td>S100</td>\n",
       "      <td>{'latitude': 1.4172, 'longitude': 103.74855}</td>\n",
       "      <td>WoodlandsRoad</td>\n",
       "    </tr>\n",
       "    <tr>\n",
       "      <td>14</td>\n",
       "      <td>S122</td>\n",
       "      <td>S122</td>\n",
       "      <td>{'latitude': 1.41731, 'longitude': 103.8249}</td>\n",
       "      <td>SembawangRoad</td>\n",
       "    </tr>\n",
       "    <tr>\n",
       "      <td>15</td>\n",
       "      <td>S106</td>\n",
       "      <td>S106</td>\n",
       "      <td>{'latitude': 1.4168, 'longitude': 103.9673}</td>\n",
       "      <td>PulauUbin</td>\n",
       "    </tr>\n",
       "  </tbody>\n",
       "</table>\n",
       "<p>106 rows × 4 columns</p>\n",
       "</div>"
      ],
      "text/plain": [
       "   device_id    id                                           location  \\\n",
       "0       S109  S109        {'latitude': 1.3764, 'longitude': 103.8492}   \n",
       "1       S117  S117          {'latitude': 1.256, 'longitude': 103.679}   \n",
       "2        S50   S50  {'latitude': 1.3336999999999999, 'longitude': ...   \n",
       "3       S107  S107        {'latitude': 1.3135, 'longitude': 103.9625}   \n",
       "4        S43   S43        {'latitude': 1.3399, 'longitude': 103.8878}   \n",
       "..       ...   ...                                                ...   \n",
       "11      S116  S116  {'latitude': 1.2810000000000001, 'longitude': ...   \n",
       "12      S104  S104      {'latitude': 1.44387, 'longitude': 103.78538}   \n",
       "13      S100  S100       {'latitude': 1.4172, 'longitude': 103.74855}   \n",
       "14      S122  S122       {'latitude': 1.41731, 'longitude': 103.8249}   \n",
       "15      S106  S106        {'latitude': 1.4168, 'longitude': 103.9673}   \n",
       "\n",
       "                name  \n",
       "0    AngMoKioAvenue5  \n",
       "1         BanyanRoad  \n",
       "2       ClementiRoad  \n",
       "3   EastCoastParkway  \n",
       "4       KimChuanRoad  \n",
       "..               ...  \n",
       "11  WestCoastHighway  \n",
       "12  WoodlandsAvenue9  \n",
       "13     WoodlandsRoad  \n",
       "14     SembawangRoad  \n",
       "15         PulauUbin  \n",
       "\n",
       "[106 rows x 4 columns]"
      ]
     },
     "execution_count": 14,
     "metadata": {},
     "output_type": "execute_result"
    }
   ],
   "source": [
    "df_device_id"
   ]
  },
  {
   "cell_type": "code",
   "execution_count": 15,
   "metadata": {},
   "outputs": [
    {
     "data": {
      "text/plain": [
       "{'S100',\n",
       " 'S104',\n",
       " 'S106',\n",
       " 'S107',\n",
       " 'S108',\n",
       " 'S109',\n",
       " 'S111',\n",
       " 'S116',\n",
       " 'S117',\n",
       " 'S121',\n",
       " 'S122',\n",
       " 'S24',\n",
       " 'S43',\n",
       " 'S44',\n",
       " 'S50',\n",
       " 'S60'}"
      ]
     },
     "execution_count": 15,
     "metadata": {},
     "output_type": "execute_result"
    }
   ],
   "source": [
    "# Create list of station IDs\n",
    "device_id_list = set(\n",
    "    df_device_id[['device_id', 'id']].set_index('device_id')['id'])\n",
    "\n",
    "device_id_list"
   ]
  },
  {
   "cell_type": "code",
   "execution_count": 16,
   "metadata": {},
   "outputs": [
    {
     "data": {
      "text/plain": [
       "{'S121': 'S121',\n",
       " 'S24': 'S24',\n",
       " 'S106': 'S106',\n",
       " 'S116': 'S116',\n",
       " 'S109': 'S109',\n",
       " 'S108': 'S108',\n",
       " 'S107': 'S107',\n",
       " 'S43': 'S43',\n",
       " 'S111': 'S111',\n",
       " 'S117': 'S117',\n",
       " 'S122': 'S122',\n",
       " 'S100': 'S100',\n",
       " 'S44': 'S44',\n",
       " 'S104': 'S104',\n",
       " 'S60': 'S60',\n",
       " 'S50': 'S50'}"
      ]
     },
     "execution_count": 16,
     "metadata": {},
     "output_type": "execute_result"
    }
   ],
   "source": [
    "# Create dictionary of station IDs for switch case to initialize station ID\n",
    "device_id_dict = {id:id for id in device_id_list}\n",
    "\n",
    "device_id_dict"
   ]
  },
  {
   "cell_type": "code",
   "execution_count": 17,
   "metadata": {},
   "outputs": [
    {
     "name": "stderr",
     "output_type": "stream",
     "text": [
      "100%|████████████████████████████████████████████████████████████████████████████| 10063/10063 [03:30<00:00, 47.79it/s]\n"
     ]
    }
   ],
   "source": [
    "# create list of dataframes containing extracted reading values converted from JSON format\n",
    "df_reading = [df_data_from_json_to_df(reading)\n",
    "    for reading in trange(len(df_data['readings']))]\n",
    "\n",
    "  "
   ]
  },
  {
   "cell_type": "code",
   "execution_count": 18,
   "metadata": {},
   "outputs": [
    {
     "data": {
      "text/html": [
       "<div>\n",
       "<style scoped>\n",
       "    .dataframe tbody tr th:only-of-type {\n",
       "        vertical-align: middle;\n",
       "    }\n",
       "\n",
       "    .dataframe tbody tr th {\n",
       "        vertical-align: top;\n",
       "    }\n",
       "\n",
       "    .dataframe thead th {\n",
       "        text-align: right;\n",
       "    }\n",
       "</style>\n",
       "<table border=\"1\" class=\"dataframe\">\n",
       "  <thead>\n",
       "    <tr style=\"text-align: right;\">\n",
       "      <th></th>\n",
       "      <th>station_id</th>\n",
       "      <th>value</th>\n",
       "    </tr>\n",
       "  </thead>\n",
       "  <tbody>\n",
       "    <tr>\n",
       "      <td>0</td>\n",
       "      <td>S109</td>\n",
       "      <td>86.0</td>\n",
       "    </tr>\n",
       "    <tr>\n",
       "      <td>1</td>\n",
       "      <td>S117</td>\n",
       "      <td>83.7</td>\n",
       "    </tr>\n",
       "    <tr>\n",
       "      <td>2</td>\n",
       "      <td>S50</td>\n",
       "      <td>82.4</td>\n",
       "    </tr>\n",
       "    <tr>\n",
       "      <td>3</td>\n",
       "      <td>S107</td>\n",
       "      <td>89.6</td>\n",
       "    </tr>\n",
       "    <tr>\n",
       "      <td>4</td>\n",
       "      <td>S43</td>\n",
       "      <td>83.7</td>\n",
       "    </tr>\n",
       "    <tr>\n",
       "      <td>...</td>\n",
       "      <td>...</td>\n",
       "      <td>...</td>\n",
       "    </tr>\n",
       "    <tr>\n",
       "      <td>11</td>\n",
       "      <td>S24</td>\n",
       "      <td>84.4</td>\n",
       "    </tr>\n",
       "    <tr>\n",
       "      <td>12</td>\n",
       "      <td>S116</td>\n",
       "      <td>85.2</td>\n",
       "    </tr>\n",
       "    <tr>\n",
       "      <td>13</td>\n",
       "      <td>S104</td>\n",
       "      <td>74.3</td>\n",
       "    </tr>\n",
       "    <tr>\n",
       "      <td>14</td>\n",
       "      <td>S100</td>\n",
       "      <td>73.0</td>\n",
       "    </tr>\n",
       "    <tr>\n",
       "      <td>15</td>\n",
       "      <td>S122</td>\n",
       "      <td>NaN</td>\n",
       "    </tr>\n",
       "  </tbody>\n",
       "</table>\n",
       "<p>161008 rows × 2 columns</p>\n",
       "</div>"
      ],
      "text/plain": [
       "   station_id  value\n",
       "0        S109   86.0\n",
       "1        S117   83.7\n",
       "2         S50   82.4\n",
       "3        S107   89.6\n",
       "4         S43   83.7\n",
       "..        ...    ...\n",
       "11        S24   84.4\n",
       "12       S116   85.2\n",
       "13       S104   74.3\n",
       "14       S100   73.0\n",
       "15       S122    NaN\n",
       "\n",
       "[161008 rows x 2 columns]"
      ]
     },
     "execution_count": 18,
     "metadata": {},
     "output_type": "execute_result"
    }
   ],
   "source": [
    "# concatenate dataframes in list within date range    \n",
    "df_extracted = pd.concat(df_reading)\n",
    "\n",
    "df_extracted"
   ]
  },
  {
   "cell_type": "code",
   "execution_count": null,
   "metadata": {},
   "outputs": [],
   "source": [
    "# Initialize device ID to select from extracted data\n",
    "stationid_entry = input('The station IDs are: \\n' + \\\n",
    "    str(list(device_id_dict.keys())) + \\\n",
    "    '\\nChoose station ID to extract data from: ')\n",
    "stationid_choice = str(stationid_entry)\n",
    "while True:\n",
    "    stationid_choice = device_id_dict.get(stationid_choice, None)\n",
    "    if stationid_choice == None:\n",
    "        stationid_entry = input('Invalid station ID. \\\n",
    "Please choose station ID to extract data from: ')\n",
    "        stationid_choice = str(stationid_entry)\n",
    "    else:\n",
    "        break"
   ]
  },
  {
   "cell_type": "code",
   "execution_count": null,
   "metadata": {},
   "outputs": [],
   "source": [
    "# extract sensor readings for a specific station id\n",
    "df_extracted_stationid = df_extracted[\n",
    "    df_extracted['station_id']==stationid_choice\n",
    "    ].reset_index(drop=True)\n",
    "df_extracted_cleaned = pd.concat(\n",
    "    [df_data, df_extracted_stationid], axis=1\n",
    "    ).drop(columns=['readings'])"
   ]
  },
  {
   "cell_type": "code",
   "execution_count": null,
   "metadata": {},
   "outputs": [],
   "source": [
    "df_extracted_stationid"
   ]
  },
  {
   "cell_type": "code",
   "execution_count": null,
   "metadata": {},
   "outputs": [],
   "source": [
    "df_extracted_cleaned"
   ]
  },
  {
   "cell_type": "markdown",
   "metadata": {
    "colab_type": "text",
    "id": "QTER4SopffKL"
   },
   "source": [
    "For pandas version 0.24.2 or earlier, timestamp needs to be converted from default UTC timezone to SGT timezone:"
   ]
  },
  {
   "cell_type": "code",
   "execution_count": null,
   "metadata": {},
   "outputs": [],
   "source": [
    "# Convert from UTC Time to SGT Time\n",
    "if not int((pd.__version__).split('.')[1]) >= 25:\n",
    "    df_extracted_cleaned['timestamp'] = \\\n",
    "    [utc_to_local(dt) for dt in df_extracted_cleaned['timestamp']]"
   ]
  },
  {
   "cell_type": "code",
   "execution_count": null,
   "metadata": {},
   "outputs": [],
   "source": [
    "# write to CSV\n",
    "df_extracted_cleaned.to_csv(\n",
    "    data_type + '/nea_' + data_type + '_' + stationid_choice + \\\n",
    "    '_from_' + str(date_list[0]) + '_to_' + str(date_list[-1]) + \\\n",
    "    '.csv')\n",
    "print('Data extraction complete!')"
   ]
  },
  {
   "cell_type": "code",
   "execution_count": null,
   "metadata": {},
   "outputs": [],
   "source": []
  }
 ],
 "metadata": {
  "accelerator": "GPU",
  "colab": {
   "collapsed_sections": [],
   "name": "Creating Data Pipelines for Real-time Weather Readings",
   "provenance": []
  },
  "kernelspec": {
   "display_name": "Python 3.7.3 64-bit ('python37': conda)",
   "language": "python",
   "name": "python37364bitpython37condaed7a9979657f471dbaf499a52196e2a5"
  },
  "language_info": {
   "codemirror_mode": {
    "name": "ipython",
    "version": 3
   },
   "file_extension": ".py",
   "mimetype": "text/x-python",
   "name": "python",
   "nbconvert_exporter": "python",
   "pygments_lexer": "ipython3",
   "version": "3.7.3"
  }
 },
 "nbformat": 4,
 "nbformat_minor": 1
}
